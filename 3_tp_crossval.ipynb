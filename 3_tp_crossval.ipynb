{
  "cells": [
    {
      "cell_type": "markdown",
      "metadata": {
        "id": "VU-nTR0sNU9H"
      },
      "source": [
        "# Cross-Validation and Hyperparameter Optimization\n",
        "\n",
        "This notebook demonstrates the use of cross-validation for model evaluation and random search for hyperparameter optimization."
      ]
    },
    {
      "cell_type": "markdown",
      "metadata": {
        "id": "1w_3nWfINU9I"
      },
      "source": [
        "## 1. Setup Environment"
      ]
    },
    {
      "cell_type": "code",
      "execution_count": 3,
      "metadata": {
        "colab": {
          "base_uri": "https://localhost:8080/"
        },
        "id": "8q6ZQvIGNU9I",
        "outputId": "0850bca2-849b-410b-e058-a15f2cb8c401"
      },
      "outputs": [
        {
          "output_type": "stream",
          "name": "stdout",
          "text": [
            "Requirement already satisfied: scikit-learn in /usr/local/lib/python3.11/dist-packages (1.6.1)\n",
            "Requirement already satisfied: pandas in /usr/local/lib/python3.11/dist-packages (2.2.2)\n",
            "Requirement already satisfied: numpy in /usr/local/lib/python3.11/dist-packages (1.26.4)\n",
            "Requirement already satisfied: seaborn in /usr/local/lib/python3.11/dist-packages (0.13.2)\n",
            "Requirement already satisfied: scipy>=1.6.0 in /usr/local/lib/python3.11/dist-packages (from scikit-learn) (1.13.1)\n",
            "Requirement already satisfied: joblib>=1.2.0 in /usr/local/lib/python3.11/dist-packages (from scikit-learn) (1.4.2)\n",
            "Requirement already satisfied: threadpoolctl>=3.1.0 in /usr/local/lib/python3.11/dist-packages (from scikit-learn) (3.5.0)\n",
            "Requirement already satisfied: python-dateutil>=2.8.2 in /usr/local/lib/python3.11/dist-packages (from pandas) (2.8.2)\n",
            "Requirement already satisfied: pytz>=2020.1 in /usr/local/lib/python3.11/dist-packages (from pandas) (2024.2)\n",
            "Requirement already satisfied: tzdata>=2022.7 in /usr/local/lib/python3.11/dist-packages (from pandas) (2025.1)\n",
            "Requirement already satisfied: matplotlib!=3.6.1,>=3.4 in /usr/local/lib/python3.11/dist-packages (from seaborn) (3.10.0)\n",
            "Requirement already satisfied: contourpy>=1.0.1 in /usr/local/lib/python3.11/dist-packages (from matplotlib!=3.6.1,>=3.4->seaborn) (1.3.1)\n",
            "Requirement already satisfied: cycler>=0.10 in /usr/local/lib/python3.11/dist-packages (from matplotlib!=3.6.1,>=3.4->seaborn) (0.12.1)\n",
            "Requirement already satisfied: fonttools>=4.22.0 in /usr/local/lib/python3.11/dist-packages (from matplotlib!=3.6.1,>=3.4->seaborn) (4.55.7)\n",
            "Requirement already satisfied: kiwisolver>=1.3.1 in /usr/local/lib/python3.11/dist-packages (from matplotlib!=3.6.1,>=3.4->seaborn) (1.4.8)\n",
            "Requirement already satisfied: packaging>=20.0 in /usr/local/lib/python3.11/dist-packages (from matplotlib!=3.6.1,>=3.4->seaborn) (24.2)\n",
            "Requirement already satisfied: pillow>=8 in /usr/local/lib/python3.11/dist-packages (from matplotlib!=3.6.1,>=3.4->seaborn) (11.1.0)\n",
            "Requirement already satisfied: pyparsing>=2.3.1 in /usr/local/lib/python3.11/dist-packages (from matplotlib!=3.6.1,>=3.4->seaborn) (3.2.1)\n",
            "Requirement already satisfied: six>=1.5 in /usr/local/lib/python3.11/dist-packages (from python-dateutil>=2.8.2->pandas) (1.17.0)\n"
          ]
        }
      ],
      "source": [
        "# Install required libraries\n",
        "!pip install scikit-learn pandas numpy seaborn"
      ]
    },
    {
      "cell_type": "markdown",
      "metadata": {
        "id": "huLs2GycNU9J"
      },
      "source": [
        "## 2. Import Libraries\n"
      ]
    },
    {
      "cell_type": "code",
      "execution_count": 4,
      "metadata": {
        "id": "lm5dhUNsNU9K"
      },
      "outputs": [],
      "source": [
        "# Import necessary libraries\n",
        "import pandas as pd\n",
        "import numpy as np\n",
        "from sklearn.datasets import load_breast_cancer\n",
        "from sklearn.model_selection import train_test_split, cross_val_score, GridSearchCV\n",
        "from sklearn.ensemble import RandomForestClassifier, AdaBoostClassifier\n",
        "from sklearn.metrics import classification_report, accuracy_score\n",
        "from scipy.stats import randint\n",
        "import matplotlib.pyplot as plt\n",
        "import seaborn as sns\n",
        "import warnings\n",
        "warnings.filterwarnings('ignore')"
      ]
    },
    {
      "cell_type": "markdown",
      "metadata": {
        "id": "IwY7VOQKNU9K"
      },
      "source": [
        "## 3. Load the Dataset\n"
      ]
    },
    {
      "cell_type": "code",
      "execution_count": 5,
      "metadata": {
        "id": "4Vt97ZBANU9K"
      },
      "outputs": [],
      "source": [
        "# Initialize the classifier models that will be used for the classification task.\n",
        "data = load_breast_cancer()\n",
        "X = pd.DataFrame(data.data, columns=data.feature_names)\n",
        "y = pd.Series(data.target)\n"
      ]
    },
    {
      "cell_type": "markdown",
      "metadata": {
        "id": "Phi8Lw5NNU9K"
      },
      "source": [
        "## 4. Preprocess Data\n"
      ]
    },
    {
      "cell_type": "code",
      "execution_count": 7,
      "metadata": {
        "id": "AqZP1jDONU9L"
      },
      "outputs": [],
      "source": [
        "# we don't need to split the data into a test set and a training set, this will be done by scikit learn k-fold function\n",
        "X_train,y_train=X,y"
      ]
    },
    {
      "cell_type": "markdown",
      "metadata": {
        "id": "nIbHHUSONU9L"
      },
      "source": [
        "## 5. Model Selection\n"
      ]
    },
    {
      "cell_type": "code",
      "execution_count": 13,
      "metadata": {
        "id": "jsYTSrIlNU9M"
      },
      "outputs": [],
      "source": [
        "# Initialize the classifier models that will be used for the classification task.\n",
        "rf_model = RandomForestClassifier(random_state=1)\n",
        "boost_model = AdaBoostClassifier(n_estimators=50, random_state=1)"
      ]
    },
    {
      "cell_type": "markdown",
      "metadata": {
        "id": "2-gJRHMWNU9M"
      },
      "source": [
        "## 6. Cross-Validation\n",
        "\n",
        "Cross-validation is a technique used to assess the performance and generalizability of a machine learning model. It involves splitting the dataset into multiple subsets (folds), training the model on some folds, and testing it on the remaining fold. This process is repeated several times, each time using a different fold for testing and the rest for training. The results are then averaged to provide a more reliable estimate of the model's performance on unseen data.\n"
      ]
    },
    {
      "cell_type": "code",
      "execution_count": 14,
      "metadata": {
        "colab": {
          "base_uri": "https://localhost:8080/"
        },
        "id": "57VBQiOVNU9N",
        "outputId": "b8700126-3127-4cdc-858b-9820dcad310a"
      },
      "outputs": [
        {
          "output_type": "stream",
          "name": "stdout",
          "text": [
            "All Random Forest scores: [0.92982456 0.94736842 0.98245614 0.97368421 0.96460177]\n",
            "Random Forest Mean CV Score: 0.9595870206489675\n",
            "Random Forest CV Score: 0.01887841765073318\n"
          ]
        }
      ],
      "source": [
        "# Perform k-fold cross-validation\n",
        "cv_scores = cross_val_score(rf_model, X_train, y_train, cv=5)\n",
        "print('All Random Forest scores:',cv_scores)\n",
        "print(f'Random Forest Mean CV Score: {np.mean(cv_scores)}')\n",
        "print(f'Random Forest CV Score: {np.std(cv_scores)}')"
      ]
    },
    {
      "cell_type": "code",
      "execution_count": 15,
      "metadata": {
        "colab": {
          "base_uri": "https://localhost:8080/"
        },
        "id": "VCRrtZ2VNU9N",
        "outputId": "06b2e1c1-5fc6-46ea-a446-0575fb7bfd6f"
      },
      "outputs": [
        {
          "output_type": "stream",
          "name": "stdout",
          "text": [
            "All Boosting scores: [0.95614035 0.95614035 0.99122807 0.96491228 0.97345133]\n",
            "Boosting Mean CV Score: 0.9683744760130415\n",
            "Boosting std CV Score: 0.013110267873227947\n"
          ]
        }
      ],
      "source": [
        "# Perform k-fold cross-validation\n",
        "cv_scores = cross_val_score(boost_model, X_train, y_train, cv=5)\n",
        "print('All Boosting scores:',cv_scores)\n",
        "print(f'Boosting Mean CV Score: {np.mean(cv_scores)}')\n",
        "print(f'Boosting std CV Score: {np.std(cv_scores)}')"
      ]
    },
    {
      "cell_type": "markdown",
      "metadata": {
        "id": "CNqSUSm6NU9N"
      },
      "source": [
        "Through cross-validation, we observe that Random Forest outperforms AdaBoost on certain training sets, but overall, AdaBoost appears to perform better on average. Therefore, we should choose AdaBoost as our model."
      ]
    },
    {
      "cell_type": "markdown",
      "metadata": {
        "id": "ONUIqSsTNU9O"
      },
      "source": [
        "## 7. Hyperparameter Optimization\n",
        "\n",
        "There are three main methods:\n",
        "\n",
        "- **Grid Search**:  \n",
        "Grid search is a hyperparameter optimization technique where a grid of possible hyperparameter values is defined, and all combinations are systematically tested. It helps identify the best set of hyperparameters but can be computationally intensive, particularly with large search spaces.\n",
        "\n",
        "- **Random Search**:  \n",
        "Random search selects hyperparameter combinations randomly from a predefined search space. It can be more efficient than grid search as it doesn't test all combinations and may find good configurations more quickly.\n",
        "\n",
        "- **Bayesian Search**:  \n",
        "Bayesian search utilizes probabilistic models to predict the most promising hyperparameters based on previous evaluations. It builds a model of the objective function and guides the search, often identifying optimal configurations with fewer evaluations than grid or random search.\n",
        "\n",
        "We will use Grid Search to facilitate a clearer visualization of the hyperparameter space."
      ]
    },
    {
      "cell_type": "code",
      "execution_count": 19,
      "metadata": {
        "colab": {
          "base_uri": "https://localhost:8080/"
        },
        "id": "1G7Vg3B2NU9O",
        "outputId": "eaf435ab-2df4-4ea5-b6e1-b833095eebe2"
      },
      "outputs": [
        {
          "output_type": "stream",
          "name": "stdout",
          "text": [
            "Best Parameters: {'learning_rate': 1.3366666666666667, 'n_estimators': 116}\n"
          ]
        }
      ],
      "source": [
        "# Define hyperparameter grid for Grid Search\n",
        "param_grid = {\n",
        "    'n_estimators': np.linspace(50, 200, 10).astype(int),\n",
        "    'learning_rate': np.linspace(0.01, 2.0, 10)\n",
        "}\n",
        "\n",
        "# Grid Search with Cross-Validation\n",
        "grid_search = GridSearchCV(boost_model, param_grid, cv=2) #set to 2-fold to save time\n",
        "grid_search.fit(X_train, y_train)\n",
        "\n",
        "# Print best parameters from grid search\n",
        "best_params = grid_search.best_params_\n",
        "print(f'Best Parameters: {best_params}')"
      ]
    },
    {
      "cell_type": "markdown",
      "metadata": {
        "id": "hpoidP6DNU9O"
      },
      "source": [
        "## 8. Evaluate the Model\n",
        "- Evaluate the best model found during the hyperparameter search on the test set and display the classification report and accuracy."
      ]
    },
    {
      "cell_type": "code",
      "execution_count": 20,
      "metadata": {
        "colab": {
          "base_uri": "https://localhost:8080/",
          "height": 837
        },
        "id": "F1DOG8z_NU9O",
        "outputId": "13c8e6c5-9ba3-49ee-bbc6-999317eacdd3"
      },
      "outputs": [
        {
          "output_type": "display_data",
          "data": {
            "text/plain": [
              "<Figure size 1000x1000 with 2 Axes>"
            ],
            "image/png": "[encoded data removed]"
          },
          "metadata": {}
        }
      ],
      "source": [
        "\n",
        "# Extract grid search results\n",
        "results = grid_search.cv_results_\n",
        "\n",
        "# Get unique parameters directly from the results\n",
        "unique_n_estimators = np.round(np.unique(results['param_n_estimators']),2)\n",
        "unique_learning_rates = np.round(np.unique(results['param_learning_rate']),2)\n",
        "\n",
        "# Reshape mean test scores for heatmap\n",
        "scores = results['mean_test_score'].reshape(len(unique_n_estimators), len(unique_learning_rates))\n",
        "# Create a heatmap\n",
        "plt.figure(figsize=(10, 10))\n",
        "plt.subplots_adjust(left=.2, right=0.95, bottom=0.15, top=0.95)\n",
        "plt.imshow(scores, interpolation='nearest', cmap=plt.cm.inferno)\n",
        "plt.xlabel('n_estimators')\n",
        "plt.ylabel('learning_rate')\n",
        "plt.colorbar()\n",
        "plt.xticks(np.arange(len(unique_n_estimators)), unique_n_estimators)\n",
        "plt.yticks(np.arange(len(unique_learning_rates)), unique_learning_rates)\n",
        "plt.title('Grid Search Score')\n",
        "plt.show()"
      ]
    },
    {
      "cell_type": "markdown",
      "metadata": {
        "id": "SaJYcEi9NU9P"
      },
      "source": [
        "### Conclusion\n",
        "\n",
        "In this practical session, we examined the use of **cross-validation** and **hyperparameter optimization** with the **Breast Cancer dataset**.\n",
        "\n",
        "**Cross-validation** showed that while **Random Forest** performed well in certain cases, **AdaBoost** exhibited superior average performance across the training sets.\n",
        "\n",
        "Using **Grid Search**, we effectively identified the optimal **hyperparameters** for the AdaBoost classifier, improving its predictive capabilities. This process emphasized the importance of tuning for achieving the best results. Additionally, visualizing the score space could provide valuable insights into how different hyperparameter combinations affect model performance.\n",
        "\n",
        "Although **Grid Search** was beneficial, it's important to mention that **Bayesian Search** might have been a more effective approach for hyperparameter tuning, potentially leading to even greater performance by more efficiently exploring the parameter space.\n",
        "\n",
        "In conclusion, our findings suggest that **AdaBoost**, with its optimized parameters, offers an effective solution for **breast cancer diagnosis**.\n",
        "\n"
      ]
    }
  ],
  "metadata": {
    "kernelspec": {
      "display_name": "Python 3 (ipykernel)",
      "language": "python",
      "name": "python3"
    },
    "language_info": {
      "codemirror_mode": {
        "name": "ipython",
        "version": 3
      },
      "file_extension": ".py",
      "mimetype": "text/x-python",
      "name": "python",
      "nbconvert_exporter": "python",
      "pygments_lexer": "ipython3",
      "version": "3.11.5"
    },
    "colab": {
      "provenance": []
    }
  },
  "nbformat": 4,
  "nbformat_minor": 0
}